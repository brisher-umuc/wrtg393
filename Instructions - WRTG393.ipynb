{
 "metadata": {
  "name": "",
  "signature": "sha256:9807dd4cc0ab988b035090d18149f68536105237cd4d04077734eba44dc3f216"
 },
 "nbformat": 3,
 "nbformat_minor": 0,
 "worksheets": [
  {
   "cells": [
    {
     "cell_type": "heading",
     "level": 1,
     "metadata": {},
     "source": [
      "Write the Python code to build an automatic desktop wallpaper changer."
     ]
    },
    {
     "cell_type": "heading",
     "level": 3,
     "metadata": {},
     "source": [
      "Open up your favorite text editor and enter the following blocks of code. "
     ]
    },
    {
     "cell_type": "heading",
     "level": 3,
     "metadata": {},
     "source": [
      "Enter the shebang line and the library imports"
     ]
    },
    {
     "cell_type": "code",
     "collapsed": false,
     "input": [
      "#!/usr/bin/python3\n",
      "import urllib.request\n",
      "import urllib.parse\n",
      "import json\n",
      "import random\n",
      "import re\n",
      "import os\n",
      "from gi.repository.Gio import Settings"
     ],
     "language": "python",
     "metadata": {},
     "outputs": []
    },
    {
     "cell_type": "heading",
     "level": 3,
     "metadata": {},
     "source": [
      "Add the function named main()"
     ]
    },
    {
     "cell_type": "code",
     "collapsed": false,
     "input": [
      "def main(directory):\n",
      "    os.environ['DISPLAY'] = ':0'  # specify the default display\n",
      "    try:\n",
      "        response = urllib.request.urlopen(r'http://reddit.com/r/wallpapers.json')  # GET request against reddit's API\n",
      "        page = response.read().decode('utf-8')  # read the response\n",
      "        jayson = json.loads(page)  # load the response into a JSON type object\n",
      "    except:\n",
      "        main(directory)  # calls main again in the event of an exception while making the GET request\n",
      "    picture_pattern = r'.*[jp][pn]g$'  # regex that matches links ending with jpg or png\n",
      "    \n",
      "    while True:  # will loop until it reaches the break statement\n",
      "        post = random.choice(jayson.get('data').get('children'))  # get a random post\n",
      "        possible_url = post.get('data').get('url')  # get the link from the post that may contain a usable url\n",
      "        match_object = re.match(picture_pattern, possible_url, re.IGNORECASE)  # check if the link ends in jpg/png\n",
      "        \n",
      "        if not match_object:  # link returned isn't a jpg or a png\n",
      "            continue  #  loop will proceed to the next iteration \n",
      "        else:  # link ends in jpg/png, this is what we want\n",
      "            path_to_file = os.path.join(directory, os.path.basename(possible_url))  # make an absolute file name to call the picture\n",
      "            try:\n",
      "                pic_file = urllib.request.urlopen(possible_url).read()  # same as above, but now we GET the picture\n",
      "            except:\n",
      "                continue  # something went wrong with the GET, try again on the next loop\n",
      "            with open(path_to_file, 'wb') as output_file:  \n",
      "                output_file.write(pic_file)  # everything is good, writing the picture out to a file\n",
      "            set_background(path_to_file)  # call set_background() passing the picture's file name\n",
      "        break"
     ],
     "language": "python",
     "metadata": {},
     "outputs": [],
     "prompt_number": 2
    },
    {
     "cell_type": "heading",
     "level": 3,
     "metadata": {},
     "source": [
      "Add the helper function named set_background()"
     ]
    },
    {
     "cell_type": "code",
     "collapsed": false,
     "input": [
      "def set_background(path_to_picture_file):\n",
      "    #  path_to_picture_file will look something like ~/Pictures/Wallpapers/ghGS6IB.jpg\n",
      "    path_to_picture_file = os.path.abspath(path_to_picture_file).encode('utf-8')\n",
      "    uri = 'file://{}'.format(urllib.parse.quote(path_to_picture_file))  # a uniform resource identifier that Gnome understands\n",
      "    \n",
      "    bg_setting = Settings.new('org.gnome.desktop.background')  # the specific setting that you want to affect\n",
      "    bg_setting.set_string('picture-uri', uri)  # tell the settings manager what type of uri to expect\n",
      "    bg_setting.apply()  # make it so "
     ],
     "language": "python",
     "metadata": {},
     "outputs": [],
     "prompt_number": 3
    },
    {
     "cell_type": "heading",
     "level": 3,
     "metadata": {},
     "source": [
      "Add the logic to allow importing the module or executing it as a script"
     ]
    },
    {
     "cell_type": "code",
     "collapsed": false,
     "input": [
      "if __name__ == '__main__':\n",
      "    directory = os.path.join(os.path.expanduser('~'), 'Pictures')  # /home/USER/Pictures\n",
      "    directory = os.path.join(directory, 'Wallpapers')  # /home/USER/Pictures/Wallpapers (the directory to store wallpapers)\n",
      "    if not os.path.exists(directory):  # If the directory doesn't already exist, make it\n",
      "        os.makedirs(directory)  \n",
      "    main(directory)  # call main() with the directory as an argument"
     ],
     "language": "python",
     "metadata": {},
     "outputs": []
    },
    {
     "cell_type": "heading",
     "level": 3,
     "metadata": {},
     "source": [
      "Save the file you just created as /usr/bin/scrape"
     ]
    },
    {
     "cell_type": "heading",
     "level": 6,
     "metadata": {},
     "source": [
      "Your finished file (without comments) should look like this:"
     ]
    },
    {
     "cell_type": "code",
     "collapsed": false,
     "input": [
      "#!/usr/bin/python3\n",
      "import urllib.request\n",
      "import urllib.parse\n",
      "import json\n",
      "import random\n",
      "import re\n",
      "import os\n",
      "from gi.repository.Gio import Settings\n",
      "\n",
      "def main(directory):\n",
      "    try:\n",
      "        response = urllib.request.urlopen(r'http://reddit.com/r/wallpapers.json')\n",
      "        page = response.read().decode('utf-8')\n",
      "        jayson = json.loads(page)\n",
      "    except:\n",
      "        main(directory)\n",
      "    picture_pattern = r'.*[jp][pn]g$'\n",
      "\n",
      "    while True:\n",
      "        post = random.choice(jayson.get('data').get('children'))\n",
      "        possible_url = post.get('data').get('url')\n",
      "        match_obj = re.match(picture_pattern, possible_url, re.IGNORECASE)\n",
      "        if not match_obj:\n",
      "            continue\n",
      "        else:\n",
      "            path_to_file = os.path.join(directory, os.path.basename(possible_url))\n",
      "            try: \n",
      "                pic_file = urllib.request.urlopen(possible_url).read()\n",
      "            except:\n",
      "                continue\n",
      "            with open(path_to_file, 'wb') as out_file:\n",
      "                out_file.write(pic_file)\n",
      "            set_background(path_to_file)\n",
      "        break\n",
      "def set_background(image_path):\n",
      "    path_to_file = os.path.abspath(image_path)\n",
      "    path_to_file = path_to_file.encode('utf-8')\n",
      "    uri = 'file://{}'.format(urllib.parse.quote(path_to_file))\n",
      "\n",
      "    bg_setting = Settings.new('org.gnome.desktop.background')\n",
      "    bg_setting.set_string('picture-uri', uri)\n",
      "    bg_setting.apply()\n",
      "\n",
      "\n",
      "if __name__ == '__main__':\n",
      "    directory = os.path.join(os.path.expanduser('~'), 'Pictures')\n",
      "    directory = os.path.join(directory, 'Wallpapers')\n",
      "    if not os.path.exists(directory):\n",
      "        os.makedirs(directory)\n",
      "    main(directory)                                                                                                                                                                                       \n"
     ],
     "language": "python",
     "metadata": {},
     "outputs": []
    }
   ],
   "metadata": {}
  }
 ]
}